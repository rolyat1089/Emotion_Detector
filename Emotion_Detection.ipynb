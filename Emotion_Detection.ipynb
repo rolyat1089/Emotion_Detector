{
 "cells": [
  {
   "cell_type": "code",
   "execution_count": 78,
   "metadata": {
    "id": "a1szDUcslOwP"
   },
   "outputs": [],
   "source": [
    "import cv2\n",
    "%matplotlib inline\n",
    "import matplotlib.pyplot as plt\n",
    "import tensorflow\n",
    "import seaborn as sns\n",
    "import zipfile\n",
    "import dlib\n",
    "import numpy as np\n",
    "from google.colab.patches import cv2_imshow\n",
    "from tensorflow.keras.preprocessing.image import ImageDataGenerator,load_img\n",
    "from tensorflow.keras.layers import Dense,Conv2D,MaxPool2D,BatchNormalization,Dropout,GlobalAvgPool2D,Input\n",
    "from tensorflow.keras.models import Model,save_model,model_from_json\n",
    "from tensorflow.keras.applications import ResNet50,Xception,InceptionV3\n",
    "from sklearn.metrics import accuracy_score,classification_report\n"
   ]
  },
  {
   "cell_type": "code",
   "execution_count": 4,
   "metadata": {
    "id": "4Z-9CMkrm1lL"
   },
   "outputs": [],
   "source": [
    "zip=zipfile.ZipFile('/content/fer2013_2_classes.zip')"
   ]
  },
  {
   "cell_type": "code",
   "execution_count": 5,
   "metadata": {
    "id": "w9tSFqBOnAwf"
   },
   "outputs": [],
   "source": [
    "zip.extractall('./')\n",
    "zip.close()"
   ]
  },
  {
   "cell_type": "code",
   "execution_count": 6,
   "metadata": {
    "id": "mk9-U662nIyz"
   },
   "outputs": [],
   "source": [
    "img=cv2.imread('/content/fer2013_2_classes/train/Angry/0.jpg')"
   ]
  },
  {
   "cell_type": "code",
   "execution_count": 7,
   "metadata": {
    "colab": {
     "base_uri": "https://localhost:8080/",
     "height": 65
    },
    "id": "-Ou3vlfongQU",
    "outputId": "ad1c8617-ab20-4748-f5e5-95b25316b3a0"
   },
   "outputs": [
    {
     "data": {
      "image/png": "[encoded data removed]",
      "text/plain": [
       "<PIL.Image.Image image mode=RGB size=48x48 at 0x7FAFCBAA6E50>"
      ]
     },
     "metadata": {
      "tags": []
     },
     "output_type": "display_data"
    }
   ],
   "source": [
    "cv2_imshow(img)"
   ]
  },
  {
   "cell_type": "code",
   "execution_count": 8,
   "metadata": {
    "colab": {
     "base_uri": "https://localhost:8080/"
    },
    "id": "BGwNF2u9nmCt",
    "outputId": "6f664439-e8ef-4a72-bd72-98fb84c92cb3"
   },
   "outputs": [
    {
     "data": {
      "text/plain": [
       "(48, 48, 3)"
      ]
     },
     "execution_count": 8,
     "metadata": {
      "tags": []
     },
     "output_type": "execute_result"
    }
   ],
   "source": [
    "img.shape"
   ]
  },
  {
   "cell_type": "code",
   "execution_count": 9,
   "metadata": {
    "id": "sfKkAYy4noFC"
   },
   "outputs": [],
   "source": [
    "generator=ImageDataGenerator(rotation_range=10,horizontal_flip=True,rescale=1./255)"
   ]
  },
  {
   "cell_type": "code",
   "execution_count": 10,
   "metadata": {
    "colab": {
     "base_uri": "https://localhost:8080/"
    },
    "id": "2EjcAOKkoTSO",
    "outputId": "59c0e9cb-ddd3-4322-ecc5-3ae5fdcec407"
   },
   "outputs": [
    {
     "name": "stdout",
     "output_type": "stream",
     "text": [
      "Found 11210 images belonging to 2 classes.\n"
     ]
    }
   ],
   "source": [
    "train=generator.flow_from_directory('/content/fer2013_2_classes/train',target_size=(48,48),batch_size=32,shuffle=True)"
   ]
  },
  {
   "cell_type": "code",
   "execution_count": 11,
   "metadata": {
    "colab": {
     "base_uri": "https://localhost:8080/"
    },
    "id": "hqQTqLZco7Mq",
    "outputId": "54c68aca-a050-4aaf-ae1a-0b11ebdb2ee5"
   },
   "outputs": [
    {
     "data": {
      "text/plain": [
       "{'Angry': 0, 'Happy': 1}"
      ]
     },
     "execution_count": 11,
     "metadata": {
      "tags": []
     },
     "output_type": "execute_result"
    }
   ],
   "source": [
    "train.class_indices"
   ]
  },
  {
   "cell_type": "code",
   "execution_count": 12,
   "metadata": {
    "colab": {
     "base_uri": "https://localhost:8080/",
     "height": 265
    },
    "id": "KR64b1eWrY13",
    "outputId": "47954232-7470-44ec-e8ba-3047f3eac95a"
   },
   "outputs": [
    {
     "data": {
      "image/png": "[encoded data removed]",
      "text/plain": [
       "<Figure size 432x288 with 1 Axes>"
      ]
     },
     "metadata": {
      "needs_background": "light",
      "tags": []
     },
     "output_type": "display_data"
    }
   ],
   "source": [
    "sns.countplot(x=train.classes);"
   ]
  },
  {
   "cell_type": "code",
   "execution_count": 13,
   "metadata": {
    "colab": {
     "base_uri": "https://localhost:8080/"
    },
    "id": "tYrz2VhWo-U_",
    "outputId": "bd441c6d-9f81-4bbd-d68c-76d2cf0a5b1e"
   },
   "outputs": [
    {
     "name": "stdout",
     "output_type": "stream",
     "text": [
      "Downloading data from https://storage.googleapis.com/tensorflow/keras-applications/resnet/resnet50_weights_tf_dim_ordering_tf_kernels_notop.h5\n",
      "94773248/94765736 [==============================] - 1s 0us/step\n"
     ]
    }
   ],
   "source": [
    "model=ResNet50(include_top=False,input_shape=(48,48,3))"
   ]
  },
  {
   "cell_type": "code",
   "execution_count": 14,
   "metadata": {
    "colab": {
     "base_uri": "https://localhost:8080/"
    },
    "id": "_dJZBfxZpEBE",
    "outputId": "0c44a9a9-ad8b-4ad5-9b50-594ab65fcd66"
   },
   "outputs": [
    {
     "data": {
      "text/plain": [
       "175"
      ]
     },
     "execution_count": 14,
     "metadata": {
      "tags": []
     },
     "output_type": "execute_result"
    }
   ],
   "source": [
    "len(model.layers)"
   ]
  },
  {
   "cell_type": "code",
   "execution_count": 15,
   "metadata": {
    "id": "ZyfeHGslr4vv"
   },
   "outputs": [],
   "source": [
    "my_model=model.output\n",
    "my_model=GlobalAvgPool2D()(my_model)\n",
    "my_model=Dense(1024,activation='relu')(my_model)\n",
    "my_model=BatchNormalization()(my_model)\n",
    "my_model=Dense(512,activation='relu')(my_model)\n",
    "my_model=Dropout(0.3)(my_model)\n",
    "my_model=Dense(124,activation='relu')(my_model)\n",
    "my_model=Dropout(0.3)(my_model)\n",
    "my_model=Dense(2,activation='softmax')(my_model)"
   ]
  },
  {
   "cell_type": "code",
   "execution_count": 16,
   "metadata": {
    "id": "s-4EooVDtT5Z"
   },
   "outputs": [],
   "source": [
    "actual_model=Model(model.input,my_model)"
   ]
  },
  {
   "cell_type": "code",
   "execution_count": 17,
   "metadata": {
    "colab": {
     "base_uri": "https://localhost:8080/"
    },
    "id": "gMMYuwmDtLf2",
    "outputId": "155306e0-7ba7-4024-d6c7-0fecf77d1fc5"
   },
   "outputs": [
    {
     "name": "stdout",
     "output_type": "stream",
     "text": [
      "Model: \"model\"\n",
      "__________________________________________________________________________________________________\n",
      "Layer (type)                    Output Shape         Param #     Connected to                     \n",
      "==================================================================================================\n",
      "input_1 (InputLayer)            [(None, 48, 48, 3)]  0                                            \n",
      "__________________________________________________________________________________________________\n",
      "conv1_pad (ZeroPadding2D)       (None, 54, 54, 3)    0           input_1[0][0]                    \n",
      "__________________________________________________________________________________________________\n",
      "conv1_conv (Conv2D)             (None, 24, 24, 64)   9472        conv1_pad[0][0]                  \n",
      "__________________________________________________________________________________________________\n",
      "conv1_bn (BatchNormalization)   (None, 24, 24, 64)   256         conv1_conv[0][0]                 \n",
      "__________________________________________________________________________________________________\n",
      "conv1_relu (Activation)         (None, 24, 24, 64)   0           conv1_bn[0][0]                   \n",
      "__________________________________________________________________________________________________\n",
      "pool1_pad (ZeroPadding2D)       (None, 26, 26, 64)   0           conv1_relu[0][0]                 \n",
      "__________________________________________________________________________________________________\n",
      "pool1_pool (MaxPooling2D)       (None, 12, 12, 64)   0           pool1_pad[0][0]                  \n",
      "__________________________________________________________________________________________________\n",
      "conv2_block1_1_conv (Conv2D)    (None, 12, 12, 64)   4160        pool1_pool[0][0]                 \n",
      "__________________________________________________________________________________________________\n",
      "conv2_block1_1_bn (BatchNormali (None, 12, 12, 64)   256         conv2_block1_1_conv[0][0]        \n",
      "__________________________________________________________________________________________________\n",
      "conv2_block1_1_relu (Activation (None, 12, 12, 64)   0           conv2_block1_1_bn[0][0]          \n",
      "__________________________________________________________________________________________________\n",
      "conv2_block1_2_conv (Conv2D)    (None, 12, 12, 64)   36928       conv2_block1_1_relu[0][0]        \n",
      "__________________________________________________________________________________________________\n",
      "conv2_block1_2_bn (BatchNormali (None, 12, 12, 64)   256         conv2_block1_2_conv[0][0]        \n",
      "__________________________________________________________________________________________________\n",
      "conv2_block1_2_relu (Activation (None, 12, 12, 64)   0           conv2_block1_2_bn[0][0]          \n",
      "__________________________________________________________________________________________________\n",
      "conv2_block1_0_conv (Conv2D)    (None, 12, 12, 256)  16640       pool1_pool[0][0]                 \n",
      "__________________________________________________________________________________________________\n",
      "conv2_block1_3_conv (Conv2D)    (None, 12, 12, 256)  16640       conv2_block1_2_relu[0][0]        \n",
      "__________________________________________________________________________________________________\n",
      "conv2_block1_0_bn (BatchNormali (None, 12, 12, 256)  1024        conv2_block1_0_conv[0][0]        \n",
      "__________________________________________________________________________________________________\n",
      "conv2_block1_3_bn (BatchNormali (None, 12, 12, 256)  1024        conv2_block1_3_conv[0][0]        \n",
      "__________________________________________________________________________________________________\n",
      "conv2_block1_add (Add)          (None, 12, 12, 256)  0           conv2_block1_0_bn[0][0]          \n",
      "                                                                 conv2_block1_3_bn[0][0]          \n",
      "__________________________________________________________________________________________________\n",
      "conv2_block1_out (Activation)   (None, 12, 12, 256)  0           conv2_block1_add[0][0]           \n",
      "__________________________________________________________________________________________________\n",
      "conv2_block2_1_conv (Conv2D)    (None, 12, 12, 64)   16448       conv2_block1_out[0][0]           \n",
      "__________________________________________________________________________________________________\n",
      "conv2_block2_1_bn (BatchNormali (None, 12, 12, 64)   256         conv2_block2_1_conv[0][0]        \n",
      "__________________________________________________________________________________________________\n",
      "conv2_block2_1_relu (Activation (None, 12, 12, 64)   0           conv2_block2_1_bn[0][0]          \n",
      "__________________________________________________________________________________________________\n",
      "conv2_block2_2_conv (Conv2D)    (None, 12, 12, 64)   36928       conv2_block2_1_relu[0][0]        \n",
      "__________________________________________________________________________________________________\n",
      "conv2_block2_2_bn (BatchNormali (None, 12, 12, 64)   256         conv2_block2_2_conv[0][0]        \n",
      "__________________________________________________________________________________________________\n",
      "conv2_block2_2_relu (Activation (None, 12, 12, 64)   0           conv2_block2_2_bn[0][0]          \n",
      "__________________________________________________________________________________________________\n",
      "conv2_block2_3_conv (Conv2D)    (None, 12, 12, 256)  16640       conv2_block2_2_relu[0][0]        \n",
      "__________________________________________________________________________________________________\n",
      "conv2_block2_3_bn (BatchNormali (None, 12, 12, 256)  1024        conv2_block2_3_conv[0][0]        \n",
      "__________________________________________________________________________________________________\n",
      "conv2_block2_add (Add)          (None, 12, 12, 256)  0           conv2_block1_out[0][0]           \n",
      "                                                                 conv2_block2_3_bn[0][0]          \n",
      "__________________________________________________________________________________________________\n",
      "conv2_block2_out (Activation)   (None, 12, 12, 256)  0           conv2_block2_add[0][0]           \n",
      "__________________________________________________________________________________________________\n",
      "conv2_block3_1_conv (Conv2D)    (None, 12, 12, 64)   16448       conv2_block2_out[0][0]           \n",
      "__________________________________________________________________________________________________\n",
      "conv2_block3_1_bn (BatchNormali (None, 12, 12, 64)   256         conv2_block3_1_conv[0][0]        \n",
      "__________________________________________________________________________________________________\n",
      "conv2_block3_1_relu (Activation (None, 12, 12, 64)   0           conv2_block3_1_bn[0][0]          \n",
      "__________________________________________________________________________________________________\n",
      "conv2_block3_2_conv (Conv2D)    (None, 12, 12, 64)   36928       conv2_block3_1_relu[0][0]        \n",
      "__________________________________________________________________________________________________\n",
      "conv2_block3_2_bn (BatchNormali (None, 12, 12, 64)   256         conv2_block3_2_conv[0][0]        \n",
      "__________________________________________________________________________________________________\n",
      "conv2_block3_2_relu (Activation (None, 12, 12, 64)   0           conv2_block3_2_bn[0][0]          \n",
      "__________________________________________________________________________________________________\n",
      "conv2_block3_3_conv (Conv2D)    (None, 12, 12, 256)  16640       conv2_block3_2_relu[0][0]        \n",
      "__________________________________________________________________________________________________\n",
      "conv2_block3_3_bn (BatchNormali (None, 12, 12, 256)  1024        conv2_block3_3_conv[0][0]        \n",
      "__________________________________________________________________________________________________\n",
      "conv2_block3_add (Add)          (None, 12, 12, 256)  0           conv2_block2_out[0][0]           \n",
      "                                                                 conv2_block3_3_bn[0][0]          \n",
      "__________________________________________________________________________________________________\n",
      "conv2_block3_out (Activation)   (None, 12, 12, 256)  0           conv2_block3_add[0][0]           \n",
      "__________________________________________________________________________________________________\n",
      "conv3_block1_1_conv (Conv2D)    (None, 6, 6, 128)    32896       conv2_block3_out[0][0]           \n",
      "__________________________________________________________________________________________________\n",
      "conv3_block1_1_bn (BatchNormali (None, 6, 6, 128)    512         conv3_block1_1_conv[0][0]        \n",
      "__________________________________________________________________________________________________\n",
      "conv3_block1_1_relu (Activation (None, 6, 6, 128)    0           conv3_block1_1_bn[0][0]          \n",
      "__________________________________________________________________________________________________\n",
      "conv3_block1_2_conv (Conv2D)    (None, 6, 6, 128)    147584      conv3_block1_1_relu[0][0]        \n",
      "__________________________________________________________________________________________________\n",
      "conv3_block1_2_bn (BatchNormali (None, 6, 6, 128)    512         conv3_block1_2_conv[0][0]        \n",
      "__________________________________________________________________________________________________\n",
      "conv3_block1_2_relu (Activation (None, 6, 6, 128)    0           conv3_block1_2_bn[0][0]          \n",
      "__________________________________________________________________________________________________\n",
      "conv3_block1_0_conv (Conv2D)    (None, 6, 6, 512)    131584      conv2_block3_out[0][0]           \n",
      "__________________________________________________________________________________________________\n",
      "conv3_block1_3_conv (Conv2D)    (None, 6, 6, 512)    66048       conv3_block1_2_relu[0][0]        \n",
      "__________________________________________________________________________________________________\n",
      "conv3_block1_0_bn (BatchNormali (None, 6, 6, 512)    2048        conv3_block1_0_conv[0][0]        \n",
      "__________________________________________________________________________________________________\n",
      "conv3_block1_3_bn (BatchNormali (None, 6, 6, 512)    2048        conv3_block1_3_conv[0][0]        \n",
      "__________________________________________________________________________________________________\n",
      "conv3_block1_add (Add)          (None, 6, 6, 512)    0           conv3_block1_0_bn[0][0]          \n",
      "                                                                 conv3_block1_3_bn[0][0]          \n",
      "__________________________________________________________________________________________________\n",
      "conv3_block1_out (Activation)   (None, 6, 6, 512)    0           conv3_block1_add[0][0]           \n",
      "__________________________________________________________________________________________________\n",
      "conv3_block2_1_conv (Conv2D)    (None, 6, 6, 128)    65664       conv3_block1_out[0][0]           \n",
      "__________________________________________________________________________________________________\n",
      "conv3_block2_1_bn (BatchNormali (None, 6, 6, 128)    512         conv3_block2_1_conv[0][0]        \n",
      "__________________________________________________________________________________________________\n",
      "conv3_block2_1_relu (Activation (None, 6, 6, 128)    0           conv3_block2_1_bn[0][0]          \n",
      "__________________________________________________________________________________________________\n",
      "conv3_block2_2_conv (Conv2D)    (None, 6, 6, 128)    147584      conv3_block2_1_relu[0][0]        \n",
      "__________________________________________________________________________________________________\n",
      "conv3_block2_2_bn (BatchNormali (None, 6, 6, 128)    512         conv3_block2_2_conv[0][0]        \n",
      "__________________________________________________________________________________________________\n",
      "conv3_block2_2_relu (Activation (None, 6, 6, 128)    0           conv3_block2_2_bn[0][0]          \n",
      "__________________________________________________________________________________________________\n",
      "conv3_block2_3_conv (Conv2D)    (None, 6, 6, 512)    66048       conv3_block2_2_relu[0][0]        \n",
      "__________________________________________________________________________________________________\n",
      "conv3_block2_3_bn (BatchNormali (None, 6, 6, 512)    2048        conv3_block2_3_conv[0][0]        \n",
      "__________________________________________________________________________________________________\n",
      "conv3_block2_add (Add)          (None, 6, 6, 512)    0           conv3_block1_out[0][0]           \n",
      "                                                                 conv3_block2_3_bn[0][0]          \n",
      "__________________________________________________________________________________________________\n",
      "conv3_block2_out (Activation)   (None, 6, 6, 512)    0           conv3_block2_add[0][0]           \n",
      "__________________________________________________________________________________________________\n",
      "conv3_block3_1_conv (Conv2D)    (None, 6, 6, 128)    65664       conv3_block2_out[0][0]           \n",
      "__________________________________________________________________________________________________\n",
      "conv3_block3_1_bn (BatchNormali (None, 6, 6, 128)    512         conv3_block3_1_conv[0][0]        \n",
      "__________________________________________________________________________________________________\n",
      "conv3_block3_1_relu (Activation (None, 6, 6, 128)    0           conv3_block3_1_bn[0][0]          \n",
      "__________________________________________________________________________________________________\n",
      "conv3_block3_2_conv (Conv2D)    (None, 6, 6, 128)    147584      conv3_block3_1_relu[0][0]        \n",
      "__________________________________________________________________________________________________\n",
      "conv3_block3_2_bn (BatchNormali (None, 6, 6, 128)    512         conv3_block3_2_conv[0][0]        \n",
      "__________________________________________________________________________________________________\n",
      "conv3_block3_2_relu (Activation (None, 6, 6, 128)    0           conv3_block3_2_bn[0][0]          \n",
      "__________________________________________________________________________________________________\n",
      "conv3_block3_3_conv (Conv2D)    (None, 6, 6, 512)    66048       conv3_block3_2_relu[0][0]        \n",
      "__________________________________________________________________________________________________\n",
      "conv3_block3_3_bn (BatchNormali (None, 6, 6, 512)    2048        conv3_block3_3_conv[0][0]        \n",
      "__________________________________________________________________________________________________\n",
      "conv3_block3_add (Add)          (None, 6, 6, 512)    0           conv3_block2_out[0][0]           \n",
      "                                                                 conv3_block3_3_bn[0][0]          \n",
      "__________________________________________________________________________________________________\n",
      "conv3_block3_out (Activation)   (None, 6, 6, 512)    0           conv3_block3_add[0][0]           \n",
      "__________________________________________________________________________________________________\n",
      "conv3_block4_1_conv (Conv2D)    (None, 6, 6, 128)    65664       conv3_block3_out[0][0]           \n",
      "__________________________________________________________________________________________________\n",
      "conv3_block4_1_bn (BatchNormali (None, 6, 6, 128)    512         conv3_block4_1_conv[0][0]        \n",
      "__________________________________________________________________________________________________\n",
      "conv3_block4_1_relu (Activation (None, 6, 6, 128)    0           conv3_block4_1_bn[0][0]          \n",
      "__________________________________________________________________________________________________\n",
      "conv3_block4_2_conv (Conv2D)    (None, 6, 6, 128)    147584      conv3_block4_1_relu[0][0]        \n",
      "__________________________________________________________________________________________________\n",
      "conv3_block4_2_bn (BatchNormali (None, 6, 6, 128)    512         conv3_block4_2_conv[0][0]        \n",
      "__________________________________________________________________________________________________\n",
      "conv3_block4_2_relu (Activation (None, 6, 6, 128)    0           conv3_block4_2_bn[0][0]          \n",
      "__________________________________________________________________________________________________\n",
      "conv3_block4_3_conv (Conv2D)    (None, 6, 6, 512)    66048       conv3_block4_2_relu[0][0]        \n",
      "__________________________________________________________________________________________________\n",
      "conv3_block4_3_bn (BatchNormali (None, 6, 6, 512)    2048        conv3_block4_3_conv[0][0]        \n",
      "__________________________________________________________________________________________________\n",
      "conv3_block4_add (Add)          (None, 6, 6, 512)    0           conv3_block3_out[0][0]           \n",
      "                                                                 conv3_block4_3_bn[0][0]          \n",
      "__________________________________________________________________________________________________\n",
      "conv3_block4_out (Activation)   (None, 6, 6, 512)    0           conv3_block4_add[0][0]           \n",
      "__________________________________________________________________________________________________\n",
      "conv4_block1_1_conv (Conv2D)    (None, 3, 3, 256)    131328      conv3_block4_out[0][0]           \n",
      "__________________________________________________________________________________________________\n",
      "conv4_block1_1_bn (BatchNormali (None, 3, 3, 256)    1024        conv4_block1_1_conv[0][0]        \n",
      "__________________________________________________________________________________________________\n",
      "conv4_block1_1_relu (Activation (None, 3, 3, 256)    0           conv4_block1_1_bn[0][0]          \n",
      "__________________________________________________________________________________________________\n",
      "conv4_block1_2_conv (Conv2D)    (None, 3, 3, 256)    590080      conv4_block1_1_relu[0][0]        \n",
      "__________________________________________________________________________________________________\n",
      "conv4_block1_2_bn (BatchNormali (None, 3, 3, 256)    1024        conv4_block1_2_conv[0][0]        \n",
      "__________________________________________________________________________________________________\n",
      "conv4_block1_2_relu (Activation (None, 3, 3, 256)    0           conv4_block1_2_bn[0][0]          \n",
      "__________________________________________________________________________________________________\n",
      "conv4_block1_0_conv (Conv2D)    (None, 3, 3, 1024)   525312      conv3_block4_out[0][0]           \n",
      "__________________________________________________________________________________________________\n",
      "conv4_block1_3_conv (Conv2D)    (None, 3, 3, 1024)   263168      conv4_block1_2_relu[0][0]        \n",
      "__________________________________________________________________________________________________\n",
      "conv4_block1_0_bn (BatchNormali (None, 3, 3, 1024)   4096        conv4_block1_0_conv[0][0]        \n",
      "__________________________________________________________________________________________________\n",
      "conv4_block1_3_bn (BatchNormali (None, 3, 3, 1024)   4096        conv4_block1_3_conv[0][0]        \n",
      "__________________________________________________________________________________________________\n",
      "conv4_block1_add (Add)          (None, 3, 3, 1024)   0           conv4_block1_0_bn[0][0]          \n",
      "                                                                 conv4_block1_3_bn[0][0]          \n",
      "__________________________________________________________________________________________________\n",
      "conv4_block1_out (Activation)   (None, 3, 3, 1024)   0           conv4_block1_add[0][0]           \n",
      "__________________________________________________________________________________________________\n",
      "conv4_block2_1_conv (Conv2D)    (None, 3, 3, 256)    262400      conv4_block1_out[0][0]           \n",
      "__________________________________________________________________________________________________\n",
      "conv4_block2_1_bn (BatchNormali (None, 3, 3, 256)    1024        conv4_block2_1_conv[0][0]        \n",
      "__________________________________________________________________________________________________\n",
      "conv4_block2_1_relu (Activation (None, 3, 3, 256)    0           conv4_block2_1_bn[0][0]          \n",
      "__________________________________________________________________________________________________\n",
      "conv4_block2_2_conv (Conv2D)    (None, 3, 3, 256)    590080      conv4_block2_1_relu[0][0]        \n",
      "__________________________________________________________________________________________________\n",
      "conv4_block2_2_bn (BatchNormali (None, 3, 3, 256)    1024        conv4_block2_2_conv[0][0]        \n",
      "__________________________________________________________________________________________________\n",
      "conv4_block2_2_relu (Activation (None, 3, 3, 256)    0           conv4_block2_2_bn[0][0]          \n",
      "__________________________________________________________________________________________________\n",
      "conv4_block2_3_conv (Conv2D)    (None, 3, 3, 1024)   263168      conv4_block2_2_relu[0][0]        \n",
      "__________________________________________________________________________________________________\n",
      "conv4_block2_3_bn (BatchNormali (None, 3, 3, 1024)   4096        conv4_block2_3_conv[0][0]        \n",
      "__________________________________________________________________________________________________\n",
      "conv4_block2_add (Add)          (None, 3, 3, 1024)   0           conv4_block1_out[0][0]           \n",
      "                                                                 conv4_block2_3_bn[0][0]          \n",
      "__________________________________________________________________________________________________\n",
      "conv4_block2_out (Activation)   (None, 3, 3, 1024)   0           conv4_block2_add[0][0]           \n",
      "__________________________________________________________________________________________________\n",
      "conv4_block3_1_conv (Conv2D)    (None, 3, 3, 256)    262400      conv4_block2_out[0][0]           \n",
      "__________________________________________________________________________________________________\n",
      "conv4_block3_1_bn (BatchNormali (None, 3, 3, 256)    1024        conv4_block3_1_conv[0][0]        \n",
      "__________________________________________________________________________________________________\n",
      "conv4_block3_1_relu (Activation (None, 3, 3, 256)    0           conv4_block3_1_bn[0][0]          \n",
      "__________________________________________________________________________________________________\n",
      "conv4_block3_2_conv (Conv2D)    (None, 3, 3, 256)    590080      conv4_block3_1_relu[0][0]        \n",
      "__________________________________________________________________________________________________\n",
      "conv4_block3_2_bn (BatchNormali (None, 3, 3, 256)    1024        conv4_block3_2_conv[0][0]        \n",
      "__________________________________________________________________________________________________\n",
      "conv4_block3_2_relu (Activation (None, 3, 3, 256)    0           conv4_block3_2_bn[0][0]          \n",
      "__________________________________________________________________________________________________\n",
      "conv4_block3_3_conv (Conv2D)    (None, 3, 3, 1024)   263168      conv4_block3_2_relu[0][0]        \n",
      "__________________________________________________________________________________________________\n",
      "conv4_block3_3_bn (BatchNormali (None, 3, 3, 1024)   4096        conv4_block3_3_conv[0][0]        \n",
      "__________________________________________________________________________________________________\n",
      "conv4_block3_add (Add)          (None, 3, 3, 1024)   0           conv4_block2_out[0][0]           \n",
      "                                                                 conv4_block3_3_bn[0][0]          \n",
      "__________________________________________________________________________________________________\n",
      "conv4_block3_out (Activation)   (None, 3, 3, 1024)   0           conv4_block3_add[0][0]           \n",
      "__________________________________________________________________________________________________\n",
      "conv4_block4_1_conv (Conv2D)    (None, 3, 3, 256)    262400      conv4_block3_out[0][0]           \n",
      "__________________________________________________________________________________________________\n",
      "conv4_block4_1_bn (BatchNormali (None, 3, 3, 256)    1024        conv4_block4_1_conv[0][0]        \n",
      "__________________________________________________________________________________________________\n",
      "conv4_block4_1_relu (Activation (None, 3, 3, 256)    0           conv4_block4_1_bn[0][0]          \n",
      "__________________________________________________________________________________________________\n",
      "conv4_block4_2_conv (Conv2D)    (None, 3, 3, 256)    590080      conv4_block4_1_relu[0][0]        \n",
      "__________________________________________________________________________________________________\n",
      "conv4_block4_2_bn (BatchNormali (None, 3, 3, 256)    1024        conv4_block4_2_conv[0][0]        \n",
      "__________________________________________________________________________________________________\n",
      "conv4_block4_2_relu (Activation (None, 3, 3, 256)    0           conv4_block4_2_bn[0][0]          \n",
      "__________________________________________________________________________________________________\n",
      "conv4_block4_3_conv (Conv2D)    (None, 3, 3, 1024)   263168      conv4_block4_2_relu[0][0]        \n",
      "__________________________________________________________________________________________________\n",
      "conv4_block4_3_bn (BatchNormali (None, 3, 3, 1024)   4096        conv4_block4_3_conv[0][0]        \n",
      "__________________________________________________________________________________________________\n",
      "conv4_block4_add (Add)          (None, 3, 3, 1024)   0           conv4_block3_out[0][0]           \n",
      "                                                                 conv4_block4_3_bn[0][0]          \n",
      "__________________________________________________________________________________________________\n",
      "conv4_block4_out (Activation)   (None, 3, 3, 1024)   0           conv4_block4_add[0][0]           \n",
      "__________________________________________________________________________________________________\n",
      "conv4_block5_1_conv (Conv2D)    (None, 3, 3, 256)    262400      conv4_block4_out[0][0]           \n",
      "__________________________________________________________________________________________________\n",
      "conv4_block5_1_bn (BatchNormali (None, 3, 3, 256)    1024        conv4_block5_1_conv[0][0]        \n",
      "__________________________________________________________________________________________________\n",
      "conv4_block5_1_relu (Activation (None, 3, 3, 256)    0           conv4_block5_1_bn[0][0]          \n",
      "__________________________________________________________________________________________________\n",
      "conv4_block5_2_conv (Conv2D)    (None, 3, 3, 256)    590080      conv4_block5_1_relu[0][0]        \n",
      "__________________________________________________________________________________________________\n",
      "conv4_block5_2_bn (BatchNormali (None, 3, 3, 256)    1024        conv4_block5_2_conv[0][0]        \n",
      "__________________________________________________________________________________________________\n",
      "conv4_block5_2_relu (Activation (None, 3, 3, 256)    0           conv4_block5_2_bn[0][0]          \n",
      "__________________________________________________________________________________________________\n",
      "conv4_block5_3_conv (Conv2D)    (None, 3, 3, 1024)   263168      conv4_block5_2_relu[0][0]        \n",
      "__________________________________________________________________________________________________\n",
      "conv4_block5_3_bn (BatchNormali (None, 3, 3, 1024)   4096        conv4_block5_3_conv[0][0]        \n",
      "__________________________________________________________________________________________________\n",
      "conv4_block5_add (Add)          (None, 3, 3, 1024)   0           conv4_block4_out[0][0]           \n",
      "                                                                 conv4_block5_3_bn[0][0]          \n",
      "__________________________________________________________________________________________________\n",
      "conv4_block5_out (Activation)   (None, 3, 3, 1024)   0           conv4_block5_add[0][0]           \n",
      "__________________________________________________________________________________________________\n",
      "conv4_block6_1_conv (Conv2D)    (None, 3, 3, 256)    262400      conv4_block5_out[0][0]           \n",
      "__________________________________________________________________________________________________\n",
      "conv4_block6_1_bn (BatchNormali (None, 3, 3, 256)    1024        conv4_block6_1_conv[0][0]        \n",
      "__________________________________________________________________________________________________\n",
      "conv4_block6_1_relu (Activation (None, 3, 3, 256)    0           conv4_block6_1_bn[0][0]          \n",
      "__________________________________________________________________________________________________\n",
      "conv4_block6_2_conv (Conv2D)    (None, 3, 3, 256)    590080      conv4_block6_1_relu[0][0]        \n",
      "__________________________________________________________________________________________________\n",
      "conv4_block6_2_bn (BatchNormali (None, 3, 3, 256)    1024        conv4_block6_2_conv[0][0]        \n",
      "__________________________________________________________________________________________________\n",
      "conv4_block6_2_relu (Activation (None, 3, 3, 256)    0           conv4_block6_2_bn[0][0]          \n",
      "__________________________________________________________________________________________________\n",
      "conv4_block6_3_conv (Conv2D)    (None, 3, 3, 1024)   263168      conv4_block6_2_relu[0][0]        \n",
      "__________________________________________________________________________________________________\n",
      "conv4_block6_3_bn (BatchNormali (None, 3, 3, 1024)   4096        conv4_block6_3_conv[0][0]        \n",
      "__________________________________________________________________________________________________\n",
      "conv4_block6_add (Add)          (None, 3, 3, 1024)   0           conv4_block5_out[0][0]           \n",
      "                                                                 conv4_block6_3_bn[0][0]          \n",
      "__________________________________________________________________________________________________\n",
      "conv4_block6_out (Activation)   (None, 3, 3, 1024)   0           conv4_block6_add[0][0]           \n",
      "__________________________________________________________________________________________________\n",
      "conv5_block1_1_conv (Conv2D)    (None, 2, 2, 512)    524800      conv4_block6_out[0][0]           \n",
      "__________________________________________________________________________________________________\n",
      "conv5_block1_1_bn (BatchNormali (None, 2, 2, 512)    2048        conv5_block1_1_conv[0][0]        \n",
      "__________________________________________________________________________________________________\n",
      "conv5_block1_1_relu (Activation (None, 2, 2, 512)    0           conv5_block1_1_bn[0][0]          \n",
      "__________________________________________________________________________________________________\n",
      "conv5_block1_2_conv (Conv2D)    (None, 2, 2, 512)    2359808     conv5_block1_1_relu[0][0]        \n",
      "__________________________________________________________________________________________________\n",
      "conv5_block1_2_bn (BatchNormali (None, 2, 2, 512)    2048        conv5_block1_2_conv[0][0]        \n",
      "__________________________________________________________________________________________________\n",
      "conv5_block1_2_relu (Activation (None, 2, 2, 512)    0           conv5_block1_2_bn[0][0]          \n",
      "__________________________________________________________________________________________________\n",
      "conv5_block1_0_conv (Conv2D)    (None, 2, 2, 2048)   2099200     conv4_block6_out[0][0]           \n",
      "__________________________________________________________________________________________________\n",
      "conv5_block1_3_conv (Conv2D)    (None, 2, 2, 2048)   1050624     conv5_block1_2_relu[0][0]        \n",
      "__________________________________________________________________________________________________\n",
      "conv5_block1_0_bn (BatchNormali (None, 2, 2, 2048)   8192        conv5_block1_0_conv[0][0]        \n",
      "__________________________________________________________________________________________________\n",
      "conv5_block1_3_bn (BatchNormali (None, 2, 2, 2048)   8192        conv5_block1_3_conv[0][0]        \n",
      "__________________________________________________________________________________________________\n",
      "conv5_block1_add (Add)          (None, 2, 2, 2048)   0           conv5_block1_0_bn[0][0]          \n",
      "                                                                 conv5_block1_3_bn[0][0]          \n",
      "__________________________________________________________________________________________________\n",
      "conv5_block1_out (Activation)   (None, 2, 2, 2048)   0           conv5_block1_add[0][0]           \n",
      "__________________________________________________________________________________________________\n",
      "conv5_block2_1_conv (Conv2D)    (None, 2, 2, 512)    1049088     conv5_block1_out[0][0]           \n",
      "__________________________________________________________________________________________________\n",
      "conv5_block2_1_bn (BatchNormali (None, 2, 2, 512)    2048        conv5_block2_1_conv[0][0]        \n",
      "__________________________________________________________________________________________________\n",
      "conv5_block2_1_relu (Activation (None, 2, 2, 512)    0           conv5_block2_1_bn[0][0]          \n",
      "__________________________________________________________________________________________________\n",
      "conv5_block2_2_conv (Conv2D)    (None, 2, 2, 512)    2359808     conv5_block2_1_relu[0][0]        \n",
      "__________________________________________________________________________________________________\n",
      "conv5_block2_2_bn (BatchNormali (None, 2, 2, 512)    2048        conv5_block2_2_conv[0][0]        \n",
      "__________________________________________________________________________________________________\n",
      "conv5_block2_2_relu (Activation (None, 2, 2, 512)    0           conv5_block2_2_bn[0][0]          \n",
      "__________________________________________________________________________________________________\n",
      "conv5_block2_3_conv (Conv2D)    (None, 2, 2, 2048)   1050624     conv5_block2_2_relu[0][0]        \n",
      "__________________________________________________________________________________________________\n",
      "conv5_block2_3_bn (BatchNormali (None, 2, 2, 2048)   8192        conv5_block2_3_conv[0][0]        \n",
      "__________________________________________________________________________________________________\n",
      "conv5_block2_add (Add)          (None, 2, 2, 2048)   0           conv5_block1_out[0][0]           \n",
      "                                                                 conv5_block2_3_bn[0][0]          \n",
      "__________________________________________________________________________________________________\n",
      "conv5_block2_out (Activation)   (None, 2, 2, 2048)   0           conv5_block2_add[0][0]           \n",
      "__________________________________________________________________________________________________\n",
      "conv5_block3_1_conv (Conv2D)    (None, 2, 2, 512)    1049088     conv5_block2_out[0][0]           \n",
      "__________________________________________________________________________________________________\n",
      "conv5_block3_1_bn (BatchNormali (None, 2, 2, 512)    2048        conv5_block3_1_conv[0][0]        \n",
      "__________________________________________________________________________________________________\n",
      "conv5_block3_1_relu (Activation (None, 2, 2, 512)    0           conv5_block3_1_bn[0][0]          \n",
      "__________________________________________________________________________________________________\n",
      "conv5_block3_2_conv (Conv2D)    (None, 2, 2, 512)    2359808     conv5_block3_1_relu[0][0]        \n",
      "__________________________________________________________________________________________________\n",
      "conv5_block3_2_bn (BatchNormali (None, 2, 2, 512)    2048        conv5_block3_2_conv[0][0]        \n",
      "__________________________________________________________________________________________________\n",
      "conv5_block3_2_relu (Activation (None, 2, 2, 512)    0           conv5_block3_2_bn[0][0]          \n",
      "__________________________________________________________________________________________________\n",
      "conv5_block3_3_conv (Conv2D)    (None, 2, 2, 2048)   1050624     conv5_block3_2_relu[0][0]        \n",
      "__________________________________________________________________________________________________\n",
      "conv5_block3_3_bn (BatchNormali (None, 2, 2, 2048)   8192        conv5_block3_3_conv[0][0]        \n",
      "__________________________________________________________________________________________________\n",
      "conv5_block3_add (Add)          (None, 2, 2, 2048)   0           conv5_block2_out[0][0]           \n",
      "                                                                 conv5_block3_3_bn[0][0]          \n",
      "__________________________________________________________________________________________________\n",
      "conv5_block3_out (Activation)   (None, 2, 2, 2048)   0           conv5_block3_add[0][0]           \n",
      "__________________________________________________________________________________________________\n",
      "global_average_pooling2d (Globa (None, 2048)         0           conv5_block3_out[0][0]           \n",
      "__________________________________________________________________________________________________\n",
      "dense (Dense)                   (None, 1024)         2098176     global_average_pooling2d[0][0]   \n",
      "__________________________________________________________________________________________________\n",
      "batch_normalization (BatchNorma (None, 1024)         4096        dense[0][0]                      \n",
      "__________________________________________________________________________________________________\n",
      "dense_1 (Dense)                 (None, 512)          524800      batch_normalization[0][0]        \n",
      "__________________________________________________________________________________________________\n",
      "dropout (Dropout)               (None, 512)          0           dense_1[0][0]                    \n",
      "__________________________________________________________________________________________________\n",
      "dense_2 (Dense)                 (None, 124)          63612       dropout[0][0]                    \n",
      "__________________________________________________________________________________________________\n",
      "dropout_1 (Dropout)             (None, 124)          0           dense_2[0][0]                    \n",
      "__________________________________________________________________________________________________\n",
      "dense_3 (Dense)                 (None, 2)            250         dropout_1[0][0]                  \n",
      "==================================================================================================\n",
      "Total params: 26,278,646\n",
      "Trainable params: 26,223,478\n",
      "Non-trainable params: 55,168\n",
      "__________________________________________________________________________________________________\n"
     ]
    }
   ],
   "source": [
    "actual_model.summary()"
   ]
  },
  {
   "cell_type": "code",
   "execution_count": 18,
   "metadata": {
    "id": "XNv__7JIpwm_"
   },
   "outputs": [],
   "source": [
    "for layer in model.layers[:135]:\n",
    "  layer.trainable=False"
   ]
  },
  {
   "cell_type": "code",
   "execution_count": 19,
   "metadata": {
    "id": "rhAdji-yp_7n"
   },
   "outputs": [],
   "source": [
    "actual_model.compile(optimizer='Adam', loss='CategoricalCrossentropy', metrics=['accuracy'])"
   ]
  },
  {
   "cell_type": "code",
   "execution_count": 20,
   "metadata": {
    "colab": {
     "base_uri": "https://localhost:8080/"
    },
    "id": "FZnI5JpYrJW1",
    "outputId": "9922bd49-e454-43e6-c3ec-348b46d59121"
   },
   "outputs": [
    {
     "name": "stdout",
     "output_type": "stream",
     "text": [
      "Epoch 1/50\n",
      "351/351 [==============================] - 51s 43ms/step - loss: 0.7634 - accuracy: 0.6016\n",
      "Epoch 2/50\n",
      "351/351 [==============================] - 15s 42ms/step - loss: 0.5873 - accuracy: 0.6872\n",
      "Epoch 3/50\n",
      "351/351 [==============================] - 15s 41ms/step - loss: 0.5601 - accuracy: 0.7136\n",
      "Epoch 4/50\n",
      "351/351 [==============================] - 15s 42ms/step - loss: 0.5443 - accuracy: 0.7315\n",
      "Epoch 5/50\n",
      "351/351 [==============================] - 15s 41ms/step - loss: 0.5333 - accuracy: 0.7326\n",
      "Epoch 6/50\n",
      "351/351 [==============================] - 15s 42ms/step - loss: 0.5217 - accuracy: 0.7408\n",
      "Epoch 7/50\n",
      "351/351 [==============================] - 15s 41ms/step - loss: 0.5255 - accuracy: 0.7423\n",
      "Epoch 8/50\n",
      "351/351 [==============================] - 15s 42ms/step - loss: 0.5133 - accuracy: 0.7414\n",
      "Epoch 9/50\n",
      "351/351 [==============================] - 15s 42ms/step - loss: 0.5065 - accuracy: 0.7475\n",
      "Epoch 10/50\n",
      "351/351 [==============================] - 15s 42ms/step - loss: 0.4924 - accuracy: 0.7614\n",
      "Epoch 11/50\n",
      "351/351 [==============================] - 15s 41ms/step - loss: 0.5027 - accuracy: 0.7490\n",
      "Epoch 12/50\n",
      "351/351 [==============================] - 15s 42ms/step - loss: 0.5034 - accuracy: 0.7516\n",
      "Epoch 13/50\n",
      "351/351 [==============================] - 15s 42ms/step - loss: 0.5007 - accuracy: 0.7524\n",
      "Epoch 14/50\n",
      "351/351 [==============================] - 15s 42ms/step - loss: 0.4930 - accuracy: 0.7600\n",
      "Epoch 15/50\n",
      "351/351 [==============================] - 15s 43ms/step - loss: 0.4846 - accuracy: 0.7649\n",
      "Epoch 16/50\n",
      "351/351 [==============================] - 15s 42ms/step - loss: 0.4845 - accuracy: 0.7638\n",
      "Epoch 17/50\n",
      "351/351 [==============================] - 15s 42ms/step - loss: 0.4874 - accuracy: 0.7684\n",
      "Epoch 18/50\n",
      "351/351 [==============================] - 15s 42ms/step - loss: 0.4858 - accuracy: 0.7651\n",
      "Epoch 19/50\n",
      "351/351 [==============================] - 15s 42ms/step - loss: 0.4802 - accuracy: 0.7668\n",
      "Epoch 20/50\n",
      "351/351 [==============================] - 15s 42ms/step - loss: 0.4788 - accuracy: 0.7642\n",
      "Epoch 21/50\n",
      "351/351 [==============================] - 15s 42ms/step - loss: 0.4761 - accuracy: 0.7715\n",
      "Epoch 22/50\n",
      "351/351 [==============================] - 15s 42ms/step - loss: 0.4715 - accuracy: 0.7797\n",
      "Epoch 23/50\n",
      "351/351 [==============================] - 15s 42ms/step - loss: 0.4727 - accuracy: 0.7706\n",
      "Epoch 24/50\n",
      "351/351 [==============================] - 15s 42ms/step - loss: 0.4683 - accuracy: 0.7767\n",
      "Epoch 25/50\n",
      "351/351 [==============================] - 15s 42ms/step - loss: 0.4666 - accuracy: 0.7771\n",
      "Epoch 26/50\n",
      "351/351 [==============================] - 15s 42ms/step - loss: 0.4496 - accuracy: 0.7845\n",
      "Epoch 27/50\n",
      "351/351 [==============================] - 15s 42ms/step - loss: 0.4591 - accuracy: 0.7804\n",
      "Epoch 28/50\n",
      "351/351 [==============================] - 15s 41ms/step - loss: 0.4578 - accuracy: 0.7734\n",
      "Epoch 29/50\n",
      "351/351 [==============================] - 15s 42ms/step - loss: 0.4562 - accuracy: 0.7755\n",
      "Epoch 30/50\n",
      "351/351 [==============================] - 15s 42ms/step - loss: 0.4600 - accuracy: 0.7704\n",
      "Epoch 31/50\n",
      "351/351 [==============================] - 15s 42ms/step - loss: 0.4531 - accuracy: 0.7853\n",
      "Epoch 32/50\n",
      "351/351 [==============================] - 15s 42ms/step - loss: 0.4457 - accuracy: 0.7739\n",
      "Epoch 33/50\n",
      "351/351 [==============================] - 15s 42ms/step - loss: 0.4490 - accuracy: 0.7757\n",
      "Epoch 34/50\n",
      "351/351 [==============================] - 15s 42ms/step - loss: 0.4388 - accuracy: 0.7822\n",
      "Epoch 35/50\n",
      "351/351 [==============================] - 15s 42ms/step - loss: 0.4478 - accuracy: 0.7846\n",
      "Epoch 36/50\n",
      "351/351 [==============================] - 15s 42ms/step - loss: 0.4327 - accuracy: 0.7874\n",
      "Epoch 37/50\n",
      "351/351 [==============================] - 15s 42ms/step - loss: 0.4472 - accuracy: 0.7824\n",
      "Epoch 38/50\n",
      "351/351 [==============================] - 15s 42ms/step - loss: 0.4427 - accuracy: 0.7842\n",
      "Epoch 39/50\n",
      "351/351 [==============================] - 15s 42ms/step - loss: 0.4396 - accuracy: 0.7904\n",
      "Epoch 40/50\n",
      "351/351 [==============================] - 15s 42ms/step - loss: 0.4430 - accuracy: 0.7869\n",
      "Epoch 41/50\n",
      "351/351 [==============================] - 15s 42ms/step - loss: 0.4282 - accuracy: 0.7901\n",
      "Epoch 42/50\n",
      "351/351 [==============================] - 15s 42ms/step - loss: 0.4382 - accuracy: 0.7845\n",
      "Epoch 43/50\n",
      "351/351 [==============================] - 15s 42ms/step - loss: 0.4371 - accuracy: 0.7851\n",
      "Epoch 44/50\n",
      "351/351 [==============================] - 15s 42ms/step - loss: 0.4186 - accuracy: 0.7972\n",
      "Epoch 45/50\n",
      "351/351 [==============================] - 15s 42ms/step - loss: 0.4350 - accuracy: 0.7889\n",
      "Epoch 46/50\n",
      "351/351 [==============================] - 15s 42ms/step - loss: 0.4177 - accuracy: 0.7989\n",
      "Epoch 47/50\n",
      "351/351 [==============================] - 15s 42ms/step - loss: 0.4336 - accuracy: 0.7904\n",
      "Epoch 48/50\n",
      "351/351 [==============================] - 15s 42ms/step - loss: 0.4245 - accuracy: 0.8009\n",
      "Epoch 49/50\n",
      "351/351 [==============================] - 15s 42ms/step - loss: 0.4165 - accuracy: 0.8023\n",
      "Epoch 50/50\n",
      "351/351 [==============================] - 15s 41ms/step - loss: 0.4222 - accuracy: 0.8025\n"
     ]
    }
   ],
   "source": [
    "history=actual_model.fit(train,epochs=50)"
   ]
  },
  {
   "cell_type": "code",
   "execution_count": 21,
   "metadata": {
    "colab": {
     "base_uri": "https://localhost:8080/",
     "height": 283
    },
    "id": "JXs15xuQt285",
    "outputId": "e40ae8ae-a2e7-46b4-d4c9-3ef4b1446909"
   },
   "outputs": [
    {
     "data": {
      "text/plain": [
       "<matplotlib.axes._subplots.AxesSubplot at 0x7fafc0389310>"
      ]
     },
     "execution_count": 21,
     "metadata": {
      "tags": []
     },
     "output_type": "execute_result"
    },
    {
     "data": {
      "image/png": "[encoded data removed]",
      "text/plain": [
       "<Figure size 432x288 with 1 Axes>"
      ]
     },
     "metadata": {
      "needs_background": "light",
      "tags": []
     },
     "output_type": "display_data"
    }
   ],
   "source": [
    "sns.lineplot(x=range(50),y=history.history['accuracy'])"
   ]
  },
  {
   "cell_type": "code",
   "execution_count": 22,
   "metadata": {
    "colab": {
     "base_uri": "https://localhost:8080/",
     "height": 283
    },
    "id": "u-JI-iNPx6ZJ",
    "outputId": "c11467c4-bdff-49a4-860f-23b321659584"
   },
   "outputs": [
    {
     "data": {
      "text/plain": [
       "<matplotlib.axes._subplots.AxesSubplot at 0x7fafc03349d0>"
      ]
     },
     "execution_count": 22,
     "metadata": {
      "tags": []
     },
     "output_type": "execute_result"
    },
    {
     "data": {
      "image/png": "[encoded data removed]",
      "text/plain": [
       "<Figure size 432x288 with 1 Axes>"
      ]
     },
     "metadata": {
      "needs_background": "light",
      "tags": []
     },
     "output_type": "display_data"
    }
   ],
   "source": [
    "sns.lineplot(x=range(50),y=history.history['loss'])"
   ]
  },
  {
   "cell_type": "code",
   "execution_count": 26,
   "metadata": {
    "colab": {
     "base_uri": "https://localhost:8080/"
    },
    "id": "JMurG9OWyU2l",
    "outputId": "1acf1db7-d1b8-472b-ef14-2796765cc5d8"
   },
   "outputs": [
    {
     "name": "stdout",
     "output_type": "stream",
     "text": [
      "Found 1370 images belonging to 2 classes.\n"
     ]
    }
   ],
   "source": [
    "test_generator=ImageDataGenerator(rescale=1./255)\n",
    "test=test_generator.flow_from_directory('/content/fer2013_2_classes/validation',batch_size=1,target_size=(48,48),shuffle=False)"
   ]
  },
  {
   "cell_type": "code",
   "execution_count": 32,
   "metadata": {
    "id": "AXvwvbhsy1fd"
   },
   "outputs": [],
   "source": [
    "pred=actual_model.predict(test)"
   ]
  },
  {
   "cell_type": "code",
   "execution_count": 40,
   "metadata": {
    "colab": {
     "base_uri": "https://localhost:8080/"
    },
    "id": "4s1VJUjAy6zC",
    "outputId": "d5039866-ec64-4306-9b35-c4c581e0222e"
   },
   "outputs": [
    {
     "data": {
      "text/plain": [
       "0.6416058394160584"
      ]
     },
     "execution_count": 40,
     "metadata": {
      "tags": []
     },
     "output_type": "execute_result"
    }
   ],
   "source": [
    "accuracy_score(test.classes,np.argmax(pred,axis=1))"
   ]
  },
  {
   "cell_type": "code",
   "execution_count": 43,
   "metadata": {
    "colab": {
     "base_uri": "https://localhost:8080/"
    },
    "id": "VefnpGkuzXaG",
    "outputId": "c96bec1d-7a8a-4e02-b8c1-5dbcd385c2cb"
   },
   "outputs": [
    {
     "name": "stdout",
     "output_type": "stream",
     "text": [
      "              precision    recall  f1-score   support\n",
      "\n",
      "           0       0.00      0.00      0.00       491\n",
      "           1       0.64      1.00      0.78       879\n",
      "\n",
      "    accuracy                           0.64      1370\n",
      "   macro avg       0.32      0.50      0.39      1370\n",
      "weighted avg       0.41      0.64      0.50      1370\n",
      "\n"
     ]
    },
    {
     "name": "stderr",
     "output_type": "stream",
     "text": [
      "/usr/local/lib/python3.7/dist-packages/sklearn/metrics/_classification.py:1272: UndefinedMetricWarning: Precision and F-score are ill-defined and being set to 0.0 in labels with no predicted samples. Use `zero_division` parameter to control this behavior.\n",
      "  _warn_prf(average, modifier, msg_start, len(result))\n"
     ]
    }
   ],
   "source": [
    "print(classification_report(test.classes,np.argmax(pred,axis=1)))"
   ]
  },
  {
   "cell_type": "code",
   "execution_count": 52,
   "metadata": {
    "id": "8cNNIVQizs4d"
   },
   "outputs": [],
   "source": [
    "new_model=tensorflow.keras.models.Sequential([\n",
    "                                              Conv2D(32,(2,2),padding='same',activation='relu',input_shape=(48,48,3)),\n",
    "                                              BatchNormalization(),\n",
    "                                              Conv2D(64,(2,2),padding='same',activation='relu'),\n",
    "                                              BatchNormalization(),\n",
    "                                              MaxPool2D(),\n",
    "                                              Dropout(0.3),\n",
    "\n",
    "                                              Conv2D(64,(2,2),padding='same',activation='relu'),\n",
    "                                              BatchNormalization(),\n",
    "                                              Conv2D(124,(2,2),padding='same',activation='relu'),\n",
    "                                              BatchNormalization(),\n",
    "                                              MaxPool2D(),\n",
    "                                              Dropout(0.3),\n",
    "\n",
    "                                              Conv2D(124,(2,2),padding='same',activation='relu'),\n",
    "                                              BatchNormalization(),\n",
    "                                              Conv2D(256,(2,2),padding='same',activation='relu'),\n",
    "                                              BatchNormalization(),\n",
    "                                              MaxPool2D(),\n",
    "                                              Dropout(0.3),\n",
    "\n",
    "                                              GlobalAvgPool2D(),\n",
    "                                              Dense(512,activation='relu'),\n",
    "                                              BatchNormalization(),\n",
    "                                              Dense(256,activation='relu'),\n",
    "                                              BatchNormalization(),\n",
    "                                              Dense(124,activation='relu'),\n",
    "                                              Dropout(0.2),\n",
    "                                              Dense(2,activation='softmax')\n",
    "\n",
    "\n",
    "])"
   ]
  },
  {
   "cell_type": "code",
   "execution_count": 53,
   "metadata": {
    "colab": {
     "base_uri": "https://localhost:8080/"
    },
    "id": "GgturIvOzcws",
    "outputId": "5efee37a-2f46-441b-a757-7a8fdebf1122"
   },
   "outputs": [
    {
     "name": "stdout",
     "output_type": "stream",
     "text": [
      "Model: \"sequential_1\"\n",
      "_________________________________________________________________\n",
      "Layer (type)                 Output Shape              Param #   \n",
      "=================================================================\n",
      "conv2d_18 (Conv2D)           (None, 48, 48, 32)        416       \n",
      "_________________________________________________________________\n",
      "batch_normalization_22 (Batc (None, 48, 48, 32)        128       \n",
      "_________________________________________________________________\n",
      "conv2d_19 (Conv2D)           (None, 48, 48, 64)        8256      \n",
      "_________________________________________________________________\n",
      "batch_normalization_23 (Batc (None, 48, 48, 64)        256       \n",
      "_________________________________________________________________\n",
      "max_pooling2d_9 (MaxPooling2 (None, 24, 24, 64)        0         \n",
      "_________________________________________________________________\n",
      "dropout_12 (Dropout)         (None, 24, 24, 64)        0         \n",
      "_________________________________________________________________\n",
      "conv2d_20 (Conv2D)           (None, 24, 24, 64)        16448     \n",
      "_________________________________________________________________\n",
      "batch_normalization_24 (Batc (None, 24, 24, 64)        256       \n",
      "_________________________________________________________________\n",
      "conv2d_21 (Conv2D)           (None, 24, 24, 124)       31868     \n",
      "_________________________________________________________________\n",
      "batch_normalization_25 (Batc (None, 24, 24, 124)       496       \n",
      "_________________________________________________________________\n",
      "max_pooling2d_10 (MaxPooling (None, 12, 12, 124)       0         \n",
      "_________________________________________________________________\n",
      "dropout_13 (Dropout)         (None, 12, 12, 124)       0         \n",
      "_________________________________________________________________\n",
      "conv2d_22 (Conv2D)           (None, 12, 12, 124)       61628     \n",
      "_________________________________________________________________\n",
      "batch_normalization_26 (Batc (None, 12, 12, 124)       496       \n",
      "_________________________________________________________________\n",
      "conv2d_23 (Conv2D)           (None, 12, 12, 256)       127232    \n",
      "_________________________________________________________________\n",
      "batch_normalization_27 (Batc (None, 12, 12, 256)       1024      \n",
      "_________________________________________________________________\n",
      "max_pooling2d_11 (MaxPooling (None, 6, 6, 256)         0         \n",
      "_________________________________________________________________\n",
      "dropout_14 (Dropout)         (None, 6, 6, 256)         0         \n",
      "_________________________________________________________________\n",
      "global_average_pooling2d_4 ( (None, 256)               0         \n",
      "_________________________________________________________________\n",
      "dense_9 (Dense)              (None, 512)               131584    \n",
      "_________________________________________________________________\n",
      "batch_normalization_28 (Batc (None, 512)               2048      \n",
      "_________________________________________________________________\n",
      "dense_10 (Dense)             (None, 256)               131328    \n",
      "_________________________________________________________________\n",
      "batch_normalization_29 (Batc (None, 256)               1024      \n",
      "_________________________________________________________________\n",
      "dense_11 (Dense)             (None, 124)               31868     \n",
      "_________________________________________________________________\n",
      "dropout_15 (Dropout)         (None, 124)               0         \n",
      "_________________________________________________________________\n",
      "dense_12 (Dense)             (None, 2)                 250       \n",
      "=================================================================\n",
      "Total params: 546,606\n",
      "Trainable params: 543,742\n",
      "Non-trainable params: 2,864\n",
      "_________________________________________________________________\n"
     ]
    }
   ],
   "source": [
    "new_model.summary()"
   ]
  },
  {
   "cell_type": "code",
   "execution_count": 56,
   "metadata": {
    "id": "1FbwqCU428m1"
   },
   "outputs": [],
   "source": [
    "new_model.compile(optimizer='Adam', loss='CategoricalCrossentropy', metrics=['accuracy'])"
   ]
  },
  {
   "cell_type": "code",
   "execution_count": 57,
   "metadata": {
    "colab": {
     "base_uri": "https://localhost:8080/"
    },
    "id": "uK-cMfAy3gN_",
    "outputId": "56e6b1fc-0b02-4d4c-cd1a-70d9fb748fa4"
   },
   "outputs": [
    {
     "name": "stdout",
     "output_type": "stream",
     "text": [
      "Epoch 1/50\n",
      "351/351 [==============================] - 14s 35ms/step - loss: 0.8122 - accuracy: 0.5789\n",
      "Epoch 2/50\n",
      "351/351 [==============================] - 12s 34ms/step - loss: 0.6444 - accuracy: 0.6427\n",
      "Epoch 3/50\n",
      "351/351 [==============================] - 12s 34ms/step - loss: 0.5520 - accuracy: 0.7161\n",
      "Epoch 4/50\n",
      "351/351 [==============================] - 12s 34ms/step - loss: 0.4718 - accuracy: 0.7714\n",
      "Epoch 5/50\n",
      "351/351 [==============================] - 12s 35ms/step - loss: 0.4314 - accuracy: 0.7936\n",
      "Epoch 6/50\n",
      "351/351 [==============================] - 12s 35ms/step - loss: 0.3963 - accuracy: 0.8110\n",
      "Epoch 7/50\n",
      "351/351 [==============================] - 12s 35ms/step - loss: 0.3524 - accuracy: 0.8400\n",
      "Epoch 8/50\n",
      "351/351 [==============================] - 12s 35ms/step - loss: 0.3413 - accuracy: 0.8496\n",
      "Epoch 9/50\n",
      "351/351 [==============================] - 12s 34ms/step - loss: 0.3231 - accuracy: 0.8600\n",
      "Epoch 10/50\n",
      "351/351 [==============================] - 12s 34ms/step - loss: 0.2985 - accuracy: 0.8751\n",
      "Epoch 11/50\n",
      "351/351 [==============================] - 12s 34ms/step - loss: 0.2983 - accuracy: 0.8726\n",
      "Epoch 12/50\n",
      "351/351 [==============================] - 12s 34ms/step - loss: 0.2908 - accuracy: 0.8745\n",
      "Epoch 13/50\n",
      "351/351 [==============================] - 12s 34ms/step - loss: 0.2871 - accuracy: 0.8779\n",
      "Epoch 14/50\n",
      "351/351 [==============================] - 12s 35ms/step - loss: 0.2700 - accuracy: 0.8841\n",
      "Epoch 15/50\n",
      "351/351 [==============================] - 12s 34ms/step - loss: 0.2560 - accuracy: 0.8946\n",
      "Epoch 16/50\n",
      "351/351 [==============================] - 12s 34ms/step - loss: 0.2647 - accuracy: 0.8864\n",
      "Epoch 17/50\n",
      "351/351 [==============================] - 12s 34ms/step - loss: 0.2597 - accuracy: 0.8942\n",
      "Epoch 18/50\n",
      "351/351 [==============================] - 12s 35ms/step - loss: 0.2569 - accuracy: 0.8900\n",
      "Epoch 19/50\n",
      "351/351 [==============================] - 12s 34ms/step - loss: 0.2417 - accuracy: 0.8959\n",
      "Epoch 20/50\n",
      "351/351 [==============================] - 12s 34ms/step - loss: 0.2315 - accuracy: 0.9059\n",
      "Epoch 21/50\n",
      "351/351 [==============================] - 12s 35ms/step - loss: 0.2329 - accuracy: 0.9026\n",
      "Epoch 22/50\n",
      "351/351 [==============================] - 12s 35ms/step - loss: 0.2340 - accuracy: 0.9014\n",
      "Epoch 23/50\n",
      "351/351 [==============================] - 12s 35ms/step - loss: 0.2335 - accuracy: 0.9024\n",
      "Epoch 24/50\n",
      "351/351 [==============================] - 12s 34ms/step - loss: 0.2244 - accuracy: 0.9058\n",
      "Epoch 25/50\n",
      "351/351 [==============================] - 12s 35ms/step - loss: 0.2252 - accuracy: 0.9098\n",
      "Epoch 26/50\n",
      "351/351 [==============================] - 12s 34ms/step - loss: 0.2150 - accuracy: 0.9144\n",
      "Epoch 27/50\n",
      "351/351 [==============================] - 12s 35ms/step - loss: 0.2125 - accuracy: 0.9129\n",
      "Epoch 28/50\n",
      "351/351 [==============================] - 12s 35ms/step - loss: 0.2149 - accuracy: 0.9071\n",
      "Epoch 29/50\n",
      "351/351 [==============================] - 12s 34ms/step - loss: 0.2139 - accuracy: 0.9148\n",
      "Epoch 30/50\n",
      "351/351 [==============================] - 12s 34ms/step - loss: 0.1994 - accuracy: 0.9195\n",
      "Epoch 31/50\n",
      "351/351 [==============================] - 12s 34ms/step - loss: 0.1855 - accuracy: 0.9223\n",
      "Epoch 32/50\n",
      "351/351 [==============================] - 12s 35ms/step - loss: 0.1981 - accuracy: 0.9194\n",
      "Epoch 33/50\n",
      "351/351 [==============================] - 12s 35ms/step - loss: 0.1834 - accuracy: 0.9258\n",
      "Epoch 34/50\n",
      "351/351 [==============================] - 12s 35ms/step - loss: 0.1953 - accuracy: 0.9191\n",
      "Epoch 35/50\n",
      "351/351 [==============================] - 12s 35ms/step - loss: 0.1772 - accuracy: 0.9250\n",
      "Epoch 36/50\n",
      "351/351 [==============================] - 12s 35ms/step - loss: 0.1836 - accuracy: 0.9255\n",
      "Epoch 37/50\n",
      "351/351 [==============================] - 12s 35ms/step - loss: 0.1808 - accuracy: 0.9273\n",
      "Epoch 38/50\n",
      "351/351 [==============================] - 12s 35ms/step - loss: 0.1751 - accuracy: 0.9303\n",
      "Epoch 39/50\n",
      "351/351 [==============================] - 12s 35ms/step - loss: 0.1762 - accuracy: 0.9260\n",
      "Epoch 40/50\n",
      "351/351 [==============================] - 12s 35ms/step - loss: 0.1716 - accuracy: 0.9341\n",
      "Epoch 41/50\n",
      "351/351 [==============================] - 12s 35ms/step - loss: 0.1667 - accuracy: 0.9348\n",
      "Epoch 42/50\n",
      "351/351 [==============================] - 12s 35ms/step - loss: 0.1755 - accuracy: 0.9280\n",
      "Epoch 43/50\n",
      "351/351 [==============================] - 12s 35ms/step - loss: 0.1693 - accuracy: 0.9331\n",
      "Epoch 44/50\n",
      "351/351 [==============================] - 12s 35ms/step - loss: 0.1732 - accuracy: 0.9331\n",
      "Epoch 45/50\n",
      "351/351 [==============================] - 12s 35ms/step - loss: 0.1602 - accuracy: 0.9378\n",
      "Epoch 46/50\n",
      "351/351 [==============================] - 12s 35ms/step - loss: 0.1545 - accuracy: 0.9358\n",
      "Epoch 47/50\n",
      "351/351 [==============================] - 12s 35ms/step - loss: 0.1653 - accuracy: 0.9362\n",
      "Epoch 48/50\n",
      "351/351 [==============================] - 12s 35ms/step - loss: 0.1621 - accuracy: 0.9351\n",
      "Epoch 49/50\n",
      "351/351 [==============================] - 12s 35ms/step - loss: 0.1633 - accuracy: 0.9333\n",
      "Epoch 50/50\n",
      "351/351 [==============================] - 12s 35ms/step - loss: 0.1668 - accuracy: 0.9347\n"
     ]
    }
   ],
   "source": [
    "new_history=new_model.fit(train,epochs=50)"
   ]
  },
  {
   "cell_type": "code",
   "execution_count": 59,
   "metadata": {
    "colab": {
     "base_uri": "https://localhost:8080/",
     "height": 283
    },
    "id": "5BAiUze14uZ3",
    "outputId": "71cbcfcd-efbc-4e44-bd99-e0bcf29b8e7a"
   },
   "outputs": [
    {
     "data": {
      "text/plain": [
       "<matplotlib.axes._subplots.AxesSubplot at 0x7faeee469090>"
      ]
     },
     "execution_count": 59,
     "metadata": {
      "tags": []
     },
     "output_type": "execute_result"
    },
    {
     "data": {
      "image/png": "[encoded data removed]",
      "text/plain": [
       "<Figure size 432x288 with 1 Axes>"
      ]
     },
     "metadata": {
      "needs_background": "light",
      "tags": []
     },
     "output_type": "display_data"
    }
   ],
   "source": [
    "sns.lineplot(x=range(50),y=new_history.history['accuracy'])\n",
    "sns.lineplot(x=range(50),y=new_history.history['loss'])"
   ]
  },
  {
   "cell_type": "code",
   "execution_count": 60,
   "metadata": {
    "id": "OavVLdqa4NvY"
   },
   "outputs": [],
   "source": [
    "pred_new=new_model.predict(test)"
   ]
  },
  {
   "cell_type": "code",
   "execution_count": 61,
   "metadata": {
    "colab": {
     "base_uri": "https://localhost:8080/"
    },
    "id": "O5a4MvOd3nya",
    "outputId": "783ba0ff-e60a-410a-bb52-6e79b34a6d9d"
   },
   "outputs": [
    {
     "data": {
      "text/plain": [
       "0.9255474452554745"
      ]
     },
     "execution_count": 61,
     "metadata": {
      "tags": []
     },
     "output_type": "execute_result"
    }
   ],
   "source": [
    "accuracy_score(test.classes,np.argmax(pred_new,axis=1))"
   ]
  },
  {
   "cell_type": "code",
   "execution_count": 64,
   "metadata": {
    "colab": {
     "base_uri": "https://localhost:8080/"
    },
    "id": "mjYJid7v4jmB",
    "outputId": "e846b720-3330-4156-8132-e96abe02fef4"
   },
   "outputs": [
    {
     "name": "stdout",
     "output_type": "stream",
     "text": [
      "              precision    recall  f1-score   support\n",
      "\n",
      "           0       0.95      0.84      0.89       491\n",
      "           1       0.92      0.97      0.94       879\n",
      "\n",
      "    accuracy                           0.93      1370\n",
      "   macro avg       0.93      0.91      0.92      1370\n",
      "weighted avg       0.93      0.93      0.92      1370\n",
      "\n"
     ]
    }
   ],
   "source": [
    "print(classification_report(test.classes,np.argmax(pred_new,axis=1)))"
   ]
  },
  {
   "cell_type": "code",
   "execution_count": 71,
   "metadata": {
    "id": "v1qNTQMb8u3H"
   },
   "outputs": [],
   "source": [
    "model_json=new_model.to_json()"
   ]
  },
  {
   "cell_type": "code",
   "execution_count": 74,
   "metadata": {
    "id": "CdqTpyPD83LT"
   },
   "outputs": [],
   "source": [
    "with open('my_model.json','w') as file:\n",
    "  file.write(model_json)"
   ]
  },
  {
   "cell_type": "code",
   "execution_count": 77,
   "metadata": {
    "id": "5tYfPOOC9NW-"
   },
   "outputs": [],
   "source": [
    "save_model(new_model,'/content/my_model.hdf5')"
   ]
  }
 ],
 "metadata": {
  "accelerator": "GPU",
  "colab": {
   "name": "Emotion_Detection.ipynb",
   "provenance": []
  },
  "kernelspec": {
   "display_name": "Python 3",
   "language": "python",
   "name": "python3"
  },
  "language_info": {
   "codemirror_mode": {
    "name": "ipython",
    "version": 3
   },
   "file_extension": ".py",
   "mimetype": "text/x-python",
   "name": "python",
   "nbconvert_exporter": "python",
   "pygments_lexer": "ipython3",
   "version": "3.7.9"
  }
 },
 "nbformat": 4,
 "nbformat_minor": 1
}
